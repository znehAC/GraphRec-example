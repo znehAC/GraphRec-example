{
 "cells": [
  {
   "cell_type": "code",
   "execution_count": null,
   "metadata": {},
   "outputs": [],
   "source": [
    "import os\n",
    "import logging\n",
    "import warnings\n",
    "import numpy as np\n",
    "from utils.graphrec import GraphRec, get_data100k\n",
    "from utils.metrics import queries_ndcg\n",
    "from sklearn.metrics import mean_squared_error\n",
    "\n",
    "warnings.filterwarnings(\"ignore\", category=DeprecationWarning) \n",
    "warnings.simplefilter(action='ignore', category=FutureWarning)\n",
    "warnings.simplefilter(action='ignore', category=UserWarning)\n",
    "warnings.filterwarnings('ignore')\n",
    "\n",
    "os.environ['TF_CPP_MIN_LOG_LEVEL'] = '2'\n",
    "logging.getLogger('tensorflow').disabled = True"
   ]
  },
  {
   "cell_type": "code",
   "execution_count": null,
   "metadata": {},
   "outputs": [],
   "source": [
    "df_train, df_test = get_data100k()"
   ]
  },
  {
   "cell_type": "code",
   "execution_count": null,
   "metadata": {},
   "outputs": [],
   "source": [
    "model = GraphRec(df_train, df_test, ItemData= False, UserData = False, Graph=False, Dataset='100k')"
   ]
  },
  {
   "cell_type": "code",
   "execution_count": null,
   "metadata": {},
   "outputs": [],
   "source": [
    "df_test = df_test.sort_values('user')\n",
    "qids = df_test['user']\n",
    "y_test = df_test['rate']\n",
    "predictions = np.array(model.predict(df_test)).flatten()"
   ]
  },
  {
   "cell_type": "code",
   "execution_count": null,
   "metadata": {},
   "outputs": [],
   "source": [
    "ndcgs = queries_ndcg(y_test, predictions, qids)\n",
    "print(\"mean ndcg:\", ndcgs.mean())\n",
    "rmse = mean_squared_error(y_test, predictions, squared = False)\n",
    "print(\"rmse:\", rmse)"
   ]
  },
  {
   "cell_type": "markdown",
   "metadata": {},
   "source": [
    "    w/o graph w/ external features\n",
    "    mean ndcg: 0.8944496166257601\n",
    "    rmse: 0.8958193504345224\n",
    "\n",
    "    w/o graph w/o external features\n",
    "    mean ndcg: 0.8910245956442313\n",
    "    rmse: 0.8935640035558002\n",
    "\n",
    "    w/ graph w/ external features\n",
    "    mean ndcg: 0.8985257081563411\n",
    "    rmse: 0.8853696390671398\n",
    "\n",
    "    w/ graph w/o external features\n",
    "    mean ndcg: 0.8977134940003574\n",
    "    rmse: 0.8990311527796113"
   ]
  }
 ],
 "metadata": {
  "interpreter": {
   "hash": "438c68fb6f46a0fb0cfe7ba661695ada31d7977d84f2101954b64fefe016c871"
  },
  "kernelspec": {
   "display_name": "Python 3.6.6 64-bit",
   "language": "python",
   "name": "python3"
  },
  "language_info": {
   "codemirror_mode": {
    "name": "ipython",
    "version": 3
   },
   "file_extension": ".py",
   "mimetype": "text/x-python",
   "name": "python",
   "nbconvert_exporter": "python",
   "pygments_lexer": "ipython3",
   "version": "3.6.6"
  },
  "orig_nbformat": 4
 },
 "nbformat": 4,
 "nbformat_minor": 2
}
