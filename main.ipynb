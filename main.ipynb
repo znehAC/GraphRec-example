{
 "cells": [
  {
   "cell_type": "code",
   "execution_count": null,
   "metadata": {},
   "outputs": [],
   "source": [
    "import os\n",
    "import logging\n",
    "import warnings\n",
    "import numpy as np\n",
    "from utils.graphrec import GraphRec, get_data100k\n",
    "from utils.metrics import queries_ndcg\n",
    "from sklearn.metrics import mean_squared_error\n",
    "\n",
    "warnings.filterwarnings(\"ignore\", category=DeprecationWarning) \n",
    "warnings.simplefilter(action='ignore', category=FutureWarning)\n",
    "warnings.simplefilter(action='ignore', category=UserWarning)\n",
    "warnings.filterwarnings('ignore')\n",
    "\n",
    "os.environ['TF_CPP_MIN_LOG_LEVEL'] = '2'\n",
    "logging.getLogger('tensorflow').disabled = True"
   ]
  },
  {
   "cell_type": "code",
   "execution_count": null,
   "metadata": {},
   "outputs": [],
   "source": [
    "df_train, df_test = get_data100k() # Retorna o dataset data.u dividido em treino e teste"
   ]
  },
  {
   "cell_type": "code",
   "execution_count": null,
   "metadata": {},
   "outputs": [],
   "source": [
    "model = GraphRec(df_train, df_test, ItemData= False, UserData = False, Graph=False, Dataset='100k') # Retorna o modelo já treinado, sem a utilizacao de\n",
    "                                                                                                    # atributos de usuarios e itens, e sem atributos graph-based"
   ]
  },
  {
   "cell_type": "code",
   "execution_count": null,
   "metadata": {},
   "outputs": [],
   "source": [
    "df_test = df_test.sort_values('user') # retorna o dataset de treino ordenado com base nos ids\n",
    "qids = df_test['user'] # qids sao os ids dos usuarios\n",
    "y_test = df_test['rate'] # y_test sao os scores verdadeiros do teste\n",
    "predictions = np.array(model.predict(df_test)).flatten() # model.predict(df_test) retorna as predicoes, .flatten() muda os dados para lista de int"
   ]
  },
  {
   "cell_type": "code",
   "execution_count": null,
   "metadata": {},
   "outputs": [],
   "source": [
    "ndcgs = queries_ndcg(y_test, predictions, qids) # retorna uma lista com ndcg de cada query (que seria id de cada usuario)\n",
    "print(\"mean ndcg:\", ndcgs.mean())\n",
    "rmse = mean_squared_error(y_test, predictions, squared = False) # retorna a raiz quadradica do erro-medio\n",
    "print(\"rmse:\", rmse)"
   ]
  }
 ],
 "metadata": {
  "interpreter": {
   "hash": "438c68fb6f46a0fb0cfe7ba661695ada31d7977d84f2101954b64fefe016c871"
  },
  "kernelspec": {
   "display_name": "Python 3.6.6 64-bit",
   "language": "python",
   "name": "python3"
  },
  "language_info": {
   "codemirror_mode": {
    "name": "ipython",
    "version": 3
   },
   "file_extension": ".py",
   "mimetype": "text/x-python",
   "name": "python",
   "nbconvert_exporter": "python",
   "pygments_lexer": "ipython3",
   "version": "3.6.6"
  },
  "orig_nbformat": 4
 },
 "nbformat": 4,
 "nbformat_minor": 2
}
